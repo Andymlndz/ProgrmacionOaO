{
  "nbformat": 4,
  "nbformat_minor": 0,
  "metadata": {
    "colab": {
      "provenance": [],
      "authorship_tag": "ABX9TyOvSRS8CAwyOBba6yhjK28c",
      "include_colab_link": true
    },
    "kernelspec": {
      "name": "python3",
      "display_name": "Python 3"
    },
    "language_info": {
      "name": "python"
    }
  },
  "cells": [
    {
      "cell_type": "markdown",
      "metadata": {
        "id": "view-in-github",
        "colab_type": "text"
      },
      "source": [
        "<a href=\"https://colab.research.google.com/github/Andymlndz/ProgrmacionOaO/blob/main/unidad1/introduccionApython.ipynb\" target=\"_parent\"><img src=\"https://colab.research.google.com/assets/colab-badge.svg\" alt=\"Open In Colab\"/></a>"
      ]
    },
    {
      "cell_type": "markdown",
      "source": [
        "![image](https://github.com/JoseGabriel-ITD/Probabilidad-y-Estadistica/blob/main/Cintilla2004.png?raw=true)\n",
        "\n",
        "# **Programacion orientada a objetos**\n",
        "\n",
        "## Unidad 1\n",
        "\n",
        "### Practica 1. introduccion\n",
        "\n",
        "### Facilitador: *Dr. José Gabriel Rodríguez Rivas*\n",
        "\n",
        "### Alumno: Itzel Andrea Melendez Arrieta"
      ],
      "metadata": {
        "id": "uFxAuQkl7k3i"
      }
    },
    {
      "cell_type": "code",
      "source": [
        "variable = input(\"Escribe tu nombre: \")\n",
        "print(\"Tu nombre es: \", variable )"
      ],
      "metadata": {
        "colab": {
          "base_uri": "https://localhost:8080/"
        },
        "id": "xYL8fmAa711h",
        "outputId": "ddd33a9e-ef7e-4c97-c8c7-2386301590e6"
      },
      "execution_count": 1,
      "outputs": [
        {
          "output_type": "stream",
          "name": "stdout",
          "text": [
            "Escribe tu nombre: Andy\n",
            "Tu nombre es:  Andy\n"
          ]
        }
      ]
    },
    {
      "cell_type": "code",
      "source": [
        "nom = input(\"¿Me puedes dar tu nombre por favor? \")\n",
        "apellido = input(\"¿Me puedes dar tu apellido por favor? \")\n",
        "print(\"Gracias.\")\n",
        "print(\"\\nTu nombre es: \" + nom + \" \" + apellido + \".\")\n",
        "print(\"\\nTu nombre es: \", nom, apellido, \".\")"
      ],
      "metadata": {
        "colab": {
          "base_uri": "https://localhost:8080/"
        },
        "id": "6q3n8RI879mF",
        "outputId": "acb2b82d-5227-4d75-a5ce-9e6901c45960"
      },
      "execution_count": 2,
      "outputs": [
        {
          "output_type": "stream",
          "name": "stdout",
          "text": [
            "¿Me puedes dar tu nombre por favor? Andrea\n",
            "¿Me puedes dar tu apellido por favor? Melendez\n",
            "Gracias.\n",
            "\n",
            "Tu nombre es: Andrea Melendez.\n",
            "\n",
            "Tu nombre es:  Andrea Melendez .\n"
          ]
        }
      ]
    },
    {
      "cell_type": "code",
      "source": [
        "# Marca error porque se debe convertir el tipo de dato.\n",
        "x = input(\"Dame un numero para multiplicar \")\n",
        "z = x * 5\n",
        "print(z)"
      ],
      "metadata": {
        "colab": {
          "base_uri": "https://localhost:8080/"
        },
        "id": "ywlX-XjX8HBA",
        "outputId": "5dc7ee28-5d4d-469f-e835-6855b9aa8ab2"
      },
      "execution_count": 3,
      "outputs": [
        {
          "output_type": "stream",
          "name": "stdout",
          "text": [
            "Dame un numero para multiplicar 2\n",
            "22222\n"
          ]
        }
      ]
    },
    {
      "cell_type": "code",
      "source": [
        "x = int(input(\"Dame un numero para multiplicar: \"))\n",
        "z = x * 5\n",
        "print(z)"
      ],
      "metadata": {
        "colab": {
          "base_uri": "https://localhost:8080/"
        },
        "id": "cWrlRuHT8I6s",
        "outputId": "ec9bd6a8-ac62-45ce-b3ac-2172eda47d75"
      },
      "execution_count": 4,
      "outputs": [
        {
          "output_type": "stream",
          "name": "stdout",
          "text": [
            "Dame un numero para multiplicar: 2\n",
            "10\n"
          ]
        }
      ]
    },
    {
      "cell_type": "code",
      "source": [
        "cateto_a = float(input(\"Inserta la longitud del primmer cateto: \"))\n",
        "cateto_b = float(input(\"Inserta la longitud del segundo cateto: \"))\n",
        "hipo = (cateto_a**2 + cateto_b**2)**.5\n",
        "print(\"La longitud de la hipotenusa es: \", hipo )"
      ],
      "metadata": {
        "colab": {
          "base_uri": "https://localhost:8080/"
        },
        "id": "oYMf0kdq8RDV",
        "outputId": "1dbfcf67-134b-47f7-b344-2d5452dd1d62"
      },
      "execution_count": 5,
      "outputs": [
        {
          "output_type": "stream",
          "name": "stdout",
          "text": [
            "Inserta la longitud del primmer cateto: 3\n",
            "Inserta la longitud del segundo cateto: 4\n",
            "La longitud de la hipotenusa es:  5.0\n"
          ]
        }
      ]
    },
    {
      "cell_type": "code",
      "execution_count": null,
      "metadata": {
        "colab": {
          "base_uri": "https://localhost:8080/"
        },
        "id": "tMAeykXcmrFz",
        "outputId": "1d726cfa-0ced-471a-a9fc-0ad80b23dfdd"
      },
      "outputs": [
        {
          "output_type": "stream",
          "name": "stdout",
          "text": [
            "a y b son iguales\n",
            "a y b valen =>  3000\n"
          ]
        }
      ],
      "source": [
        "a=3000\n",
        "b=3000\n",
        "if b > a:\n",
        "  print(\"b es mayor que a \")\n",
        "  print(\"b vale => \",b)\n",
        "elif a==b:\n",
        "    print(\"a y b son iguales\")\n",
        "    print(\"a y b valen => \",a)\n",
        "else:\n",
        "    print(\"a es mayor que b\")\n",
        "    print(\"a vale => \",a)\n",
        "    print(\"Fin del if\")\n",
        "\n"
      ]
    },
    {
      "cell_type": "code",
      "source": [
        "x=50\n",
        "y=60\n",
        "print(\"x es mayor que y \")if (x > y) else print(\"y es mayor que x\")"
      ],
      "metadata": {
        "colab": {
          "base_uri": "https://localhost:8080/"
        },
        "id": "5ezwdomxoYYt",
        "outputId": "fdb04e85-ccc1-4476-e14e-1cae3c4e6887"
      },
      "execution_count": null,
      "outputs": [
        {
          "output_type": "stream",
          "name": "stdout",
          "text": [
            "y es mayor que x\n"
          ]
        }
      ]
    },
    {
      "cell_type": "code",
      "source": [
        "i=1\n",
        "while i <= 10:\n",
        "  print(i)\n",
        "  i+=1\n",
        "print(\"fuera del while\")"
      ],
      "metadata": {
        "colab": {
          "base_uri": "https://localhost:8080/"
        },
        "id": "SLy0X2XppDWW",
        "outputId": "6148dd90-47d4-4a05-fbef-2664585afda8"
      },
      "execution_count": null,
      "outputs": [
        {
          "output_type": "stream",
          "name": "stdout",
          "text": [
            "1\n",
            "2\n",
            "3\n",
            "4\n",
            "5\n",
            "6\n",
            "7\n",
            "8\n",
            "9\n",
            "10\n",
            "fuera del while\n"
          ]
        }
      ]
    },
    {
      "cell_type": "code",
      "source": [
        "i=1\n",
        "while i <= 1000:\n",
        "  print(i)\n",
        "  if i== 10:\n",
        "    print(\"Entro al if\")\n",
        "    break\n",
        "  i+=1\n",
        "print(\"fuera del while\")"
      ],
      "metadata": {
        "colab": {
          "base_uri": "https://localhost:8080/"
        },
        "id": "lg7__LpHpw2d",
        "outputId": "619a2210-394e-4e4e-e375-dd1a6f299c74"
      },
      "execution_count": null,
      "outputs": [
        {
          "output_type": "stream",
          "name": "stdout",
          "text": [
            "1\n",
            "2\n",
            "3\n",
            "4\n",
            "5\n",
            "6\n",
            "7\n",
            "8\n",
            "9\n",
            "10\n",
            "Entro al if\n",
            "fuera del while\n"
          ]
        }
      ]
    },
    {
      "cell_type": "code",
      "source": [
        "while True:\n",
        "    print(\"\"\"Seleccione una opción\n",
        "    1) Opción 1\n",
        "    2) Opción 2\n",
        "    3) Salir\"\"\")\n",
        "    opcion = input(\"¿Cuál es la opción que deseas? \")\n",
        "    if opcion == \"1\":\n",
        "        print(\"Has seleccionado la opción 1 \\n\")\n",
        "    elif opcion == \"2\":\n",
        "        print(\"Has seleccionado la opción 2 \\n\")\n",
        "    elif opcion == \"3\":\n",
        "        print(\"Has seleccionado la opción 3 \\n\")\n",
        "        break\n",
        "    else:\n",
        "        print(\"Has seleccionado una opción incorrecta\")"
      ],
      "metadata": {
        "colab": {
          "base_uri": "https://localhost:8080/"
        },
        "id": "9cfT1L6crX7p",
        "outputId": "69c4777a-0072-4c1b-9fa5-4c317d5ab589"
      },
      "execution_count": null,
      "outputs": [
        {
          "output_type": "stream",
          "name": "stdout",
          "text": [
            "Seleccione una opción\n",
            "    1) Opción 1\n",
            "    2) Opción 2\n",
            "    3) Salir\n",
            "¿Cuál es la opción que deseas? 1\n",
            "Has seleccionado la opción 1 \n",
            "\n",
            "Seleccione una opción\n",
            "    1) Opción 1\n",
            "    2) Opción 2\n",
            "    3) Salir\n",
            "¿Cuál es la opción que deseas? 3\n",
            "Has seleccionado la opción 3 \n",
            "\n"
          ]
        }
      ]
    },
    {
      "cell_type": "code",
      "source": [
        "for x in range(5):\n",
        "  print(x)"
      ],
      "metadata": {
        "colab": {
          "base_uri": "https://localhost:8080/"
        },
        "id": "6MQlXC-2unmU",
        "outputId": "911d79c3-c1e2-492a-b66c-ce73c402b80d"
      },
      "execution_count": null,
      "outputs": [
        {
          "output_type": "stream",
          "name": "stdout",
          "text": [
            "0\n",
            "1\n",
            "2\n",
            "3\n",
            "4\n"
          ]
        }
      ]
    },
    {
      "cell_type": "code",
      "source": [
        "for z in range(2,5):\n",
        "  print(z)"
      ],
      "metadata": {
        "colab": {
          "base_uri": "https://localhost:8080/"
        },
        "id": "uRviwLmkv6j4",
        "outputId": "c04bffb2-139d-4c64-88b2-3716b5175eb8"
      },
      "execution_count": null,
      "outputs": [
        {
          "output_type": "stream",
          "name": "stdout",
          "text": [
            "2\n",
            "3\n",
            "4\n"
          ]
        }
      ]
    },
    {
      "cell_type": "code",
      "source": [
        "for z in range(1, 25, 2):\n",
        "  print(z)"
      ],
      "metadata": {
        "colab": {
          "base_uri": "https://localhost:8080/"
        },
        "id": "mxaFztFSwQHk",
        "outputId": "6f5fb059-dce8-48f1-9184-ae4120528e11"
      },
      "execution_count": null,
      "outputs": [
        {
          "output_type": "stream",
          "name": "stdout",
          "text": [
            "1\n",
            "3\n",
            "5\n",
            "7\n",
            "9\n",
            "11\n",
            "13\n",
            "15\n",
            "17\n",
            "19\n",
            "21\n",
            "23\n"
          ]
        }
      ]
    },
    {
      "cell_type": "code",
      "source": [
        "print(\"La instrucccion break\")\n",
        "variables = True #variable de tipo boleana\n",
        "for i in range(1,6):\n",
        "   print(\"Esto es un print dentro de un for\")\n",
        "   if variables:\n",
        "     print(\"Entro al if\")\n",
        "     break\n",
        "print(\"Fuera del for\")\n"
      ],
      "metadata": {
        "colab": {
          "base_uri": "https://localhost:8080/"
        },
        "id": "FwjMP-s2wnf_",
        "outputId": "885aaa2c-2fd8-4bc4-c2d4-ef21c8fd4357"
      },
      "execution_count": null,
      "outputs": [
        {
          "output_type": "stream",
          "name": "stdout",
          "text": [
            "La instrucccion break\n",
            "Esto es un print dentro de un for\n",
            "Entro al if\n",
            "Fuera del for\n"
          ]
        }
      ]
    },
    {
      "cell_type": "code",
      "source": [
        "print(\"Fuera del bucle\")\n",
        "print(\"\\n La instruccion continue: \")\n",
        "for i in range(1, 6):\n",
        "  if i == 3:\n",
        "    continue\n",
        "  print(\"Dentro del bucle\",i)\n",
        "print(\"Fuera del bucle\")"
      ],
      "metadata": {
        "colab": {
          "base_uri": "https://localhost:8080/"
        },
        "id": "Aw-03jNgyPug",
        "outputId": "b9d25365-2a7c-438d-8749-3cc43f7d8eba"
      },
      "execution_count": null,
      "outputs": [
        {
          "output_type": "stream",
          "name": "stdout",
          "text": [
            "Fuera del bucle\n",
            "\n",
            " La instruccion continue: \n",
            "Dentro del bucle 1\n",
            "Dentro del bucle 2\n",
            "Dentro del bucle 4\n",
            "Dentro del bucle 5\n",
            "Fuera del bucle\n"
          ]
        }
      ]
    },
    {
      "cell_type": "code",
      "source": [
        "frutas = [\"platano\", \"naranja\", \"manzana\"]\n",
        "for x in frutas:\n",
        "  print(x)\n",
        "  if x == \"naranja\":\n",
        "    break"
      ],
      "metadata": {
        "colab": {
          "base_uri": "https://localhost:8080/"
        },
        "id": "x9KRVOguzlHY",
        "outputId": "53467820-28f1-4b84-d5d0-d618e21f63c3"
      },
      "execution_count": null,
      "outputs": [
        {
          "output_type": "stream",
          "name": "stdout",
          "text": [
            "platano\n",
            "naranja\n"
          ]
        }
      ]
    },
    {
      "cell_type": "code",
      "source": [
        "n = 0\n",
        "while n != 3:\n",
        "  print(n)\n",
        "  n += 1\n",
        "else:\n",
        "  print(n, \"else\")\n",
        "print() #Para generar linea en blanco\n",
        "for i in range(0,3):\n",
        "  print(i)\n",
        "else:\n",
        "  print(i, \"else\")"
      ],
      "metadata": {
        "colab": {
          "base_uri": "https://localhost:8080/"
        },
        "id": "7KFrbj5F0cid",
        "outputId": "89e24162-f516-4dfa-d74b-54a2f0386006"
      },
      "execution_count": null,
      "outputs": [
        {
          "output_type": "stream",
          "name": "stdout",
          "text": [
            "0\n",
            "1\n",
            "2\n",
            "3 else\n",
            "\n",
            "0\n",
            "1\n",
            "2\n",
            "2 else\n"
          ]
        }
      ]
    },
    {
      "cell_type": "code",
      "source": [
        "def funcion_saludar():\n",
        "  print(\"Hola mundo, desde mi funcion\")"
      ],
      "metadata": {
        "id": "HmM2Ipwj2Xk9"
      },
      "execution_count": null,
      "outputs": []
    },
    {
      "cell_type": "code",
      "source": [
        "def tablas_multiplicar(x):\n",
        "  for z in range(1, 11):\n",
        "    print(x, \"x\", z, \"=\", x*z)\n",
        "  print(\"\\n Fin desde mi funcion\")\n",
        "\n"
      ],
      "metadata": {
        "id": "4aXTkTRF3dUX"
      },
      "execution_count": null,
      "outputs": []
    },
    {
      "cell_type": "code",
      "source": [
        "tablas_multiplicar(2)"
      ],
      "metadata": {
        "colab": {
          "base_uri": "https://localhost:8080/"
        },
        "id": "o30dOVVT4Egq",
        "outputId": "49d139f7-0862-48d9-f937-260ac8407bef"
      },
      "execution_count": null,
      "outputs": [
        {
          "output_type": "stream",
          "name": "stdout",
          "text": [
            "2 x 1 = 2\n",
            "2 x 2 = 4\n",
            "2 x 3 = 6\n",
            "2 x 4 = 8\n",
            "2 x 5 = 10\n",
            "2 x 6 = 12\n",
            "2 x 7 = 14\n",
            "2 x 8 = 16\n",
            "2 x 9 = 18\n",
            "2 x 10 = 20\n",
            "\n",
            " Fin desde mi funcion\n"
          ]
        }
      ]
    },
    {
      "cell_type": "code",
      "source": [
        "def presentar(nombre, apellido, edad):\n",
        "  print(\"Mi nombre es\", nombre, apellido, \"y mi edad es\", edad)\n",
        "\n",
        "presentar(\"luke\", \"skywalker\", 20)\n",
        "presentar(\"Clark\", \"Kent\", 35)\n",
        "presentar(\"juan\", 35, \"salazar\")"
      ],
      "metadata": {
        "colab": {
          "base_uri": "https://localhost:8080/"
        },
        "id": "-bdQ8dhz4t-E",
        "outputId": "27f74562-700f-4d86-cb51-8d97b620728e"
      },
      "execution_count": null,
      "outputs": [
        {
          "output_type": "stream",
          "name": "stdout",
          "text": [
            "Mi nombre es luke skywalker y mi edad es 20\n",
            "Mi nombre es Clark Kent y mi edad es 35\n",
            "Mi nombre es juan 35 y mi edad es salazar\n"
          ]
        }
      ]
    },
    {
      "cell_type": "code",
      "source": [
        "def presentar(nombre, apellido=\" Rodrguez\"):\n",
        "  print(\"Hola mi nombre es\", nombre, apellido)\n",
        "\n",
        "presentar(\"Juan\",\"Salazar\")\n",
        "presentar(\"Juan\")"
      ],
      "metadata": {
        "colab": {
          "base_uri": "https://localhost:8080/"
        },
        "id": "1R0NvGQb5fBk",
        "outputId": "dff370aa-5686-48ce-abe6-8d0789429f0f"
      },
      "execution_count": null,
      "outputs": [
        {
          "output_type": "stream",
          "name": "stdout",
          "text": [
            "Hola mi nombre es Juan Salazar\n",
            "Hola mi nombre es Juan  Rodrguez\n"
          ]
        }
      ]
    },
    {
      "cell_type": "code",
      "source": [
        "def presentar(nombre, apellido):\n",
        "  print(\"Hola mi nombre es\", nombre, apellido)\n",
        "\n",
        "presentar(apellido=\"Bond\", nombre=\"James\")\n",
        "presentar(apellido=\"skywalker\", nombre=\"luke\")"
      ],
      "metadata": {
        "colab": {
          "base_uri": "https://localhost:8080/"
        },
        "id": "NuKUPtoA61ZL",
        "outputId": "20b08890-693d-451d-8229-bac1186a7df3"
      },
      "execution_count": null,
      "outputs": [
        {
          "output_type": "stream",
          "name": "stdout",
          "text": [
            "Hola mi nombre es James Bond\n",
            "Hola mi nombre es luke skywalker\n"
          ]
        }
      ]
    },
    {
      "cell_type": "code",
      "source": [
        "def calculadoraDoble(qaz):\n",
        "  qaz = qaz * 2\n",
        "  return qaz"
      ],
      "metadata": {
        "id": "pmyWGIbT7cru"
      },
      "execution_count": null,
      "outputs": []
    },
    {
      "cell_type": "code",
      "source": [
        "#asignar valor\n",
        "valor_al_doble = calculadoraDoble(5)\n",
        "print(valor_al_doble)"
      ],
      "metadata": {
        "colab": {
          "base_uri": "https://localhost:8080/"
        },
        "id": "O0QKPpNw7t8T",
        "outputId": "193285b0-a4de-4e3c-d2a3-8371adeddb6f"
      },
      "execution_count": null,
      "outputs": [
        {
          "output_type": "stream",
          "name": "stdout",
          "text": [
            "10\n"
          ]
        }
      ]
    },
    {
      "cell_type": "code",
      "source": [
        "def mifuncion():\n",
        "  variable=2\n",
        "  print(\"¿Valor de la variable?\", variable)\n",
        "\n",
        "variable=1\n",
        "print(\"Valor de la variable\", variable)\n",
        "mifuncion()\n",
        "print(\"Valor de la variable\", variable)\n"
      ],
      "metadata": {
        "colab": {
          "base_uri": "https://localhost:8080/"
        },
        "id": "j4pZOa4c9Tfm",
        "outputId": "c81093ce-9d5b-4e44-e5bf-fe409a156580"
      },
      "execution_count": null,
      "outputs": [
        {
          "output_type": "stream",
          "name": "stdout",
          "text": [
            "Valor de la variable 1\n",
            "¿Valor de la variable? 2\n",
            "Valor de la variable 1\n"
          ]
        }
      ]
    },
    {
      "cell_type": "code",
      "source": [
        "def mifuncion():\n",
        "  global variable\n",
        "  variable=2\n",
        "  print(\"¿Valor de la variable?\", variable)\n",
        "\n",
        "variable=1\n",
        "print(\"Valor de la variable\", variable)\n",
        "mifuncion()\n",
        "print(\"Valor de la variable\", variable)"
      ],
      "metadata": {
        "colab": {
          "base_uri": "https://localhost:8080/"
        },
        "id": "fcOHDd8f-cn8",
        "outputId": "b0a28a16-9b8d-4871-a807-734b8ec9d23a"
      },
      "execution_count": null,
      "outputs": [
        {
          "output_type": "stream",
          "name": "stdout",
          "text": [
            "Valor de la variable 1\n",
            "¿Valor de la variable? 2\n",
            "Valor de la variable 2\n"
          ]
        }
      ]
    },
    {
      "cell_type": "code",
      "source": [
        "class Libro:\n",
        "  def __init__(self, titulo, autor, isbn, precio): #constructor de la clase\n",
        "    self.titulo = titulo\n",
        "    self.autor = autor\n",
        "    self.isbn = isbn\n",
        "    self.precio = precio\n",
        "\n",
        "  def mostrar_info(self):  #Metodo\n",
        "    return f\"{self.titulo} por {self.autor} -ISBN: {self.isbn}, Precio: ${self.precio}\""
      ],
      "metadata": {
        "id": "5cs2wV4L-puG"
      },
      "execution_count": 6,
      "outputs": []
    },
    {
      "cell_type": "code",
      "source": [
        "libro1 = Libro(\"Cien años de soledad\", \"Gabriel García Márquez\", \"978-0307474728\", 350.00)\n",
        "libro2 = Libro(\"1984\", \"George Orwell\", \"978-0451524935\", 220.00)"
      ],
      "metadata": {
        "id": "RH7f8FhP85Bx"
      },
      "execution_count": 7,
      "outputs": []
    },
    {
      "cell_type": "code",
      "source": [
        "print(libro1.mostrar_info())\n",
        "print(libro2.mostrar_info())"
      ],
      "metadata": {
        "colab": {
          "base_uri": "https://localhost:8080/"
        },
        "id": "4Fzz7x6286EO",
        "outputId": "1add35b7-5a6e-4859-9726-f0b6b27fcba1"
      },
      "execution_count": 8,
      "outputs": [
        {
          "output_type": "stream",
          "name": "stdout",
          "text": [
            "Cien años de soledad por Gabriel García Márquez -ISBN: 978-0307474728, Precio: $350.0\n",
            "1984 por George Orwell -ISBN: 978-0451524935, Precio: $220.0\n"
          ]
        }
      ]
    }
  ]
}